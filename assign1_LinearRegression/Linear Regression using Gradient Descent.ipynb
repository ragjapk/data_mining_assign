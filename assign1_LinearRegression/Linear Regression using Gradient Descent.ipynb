{
 "cells": [
  {
   "cell_type": "markdown",
   "metadata": {},
   "source": [
    "## Linear Regression using Gradient Descent"
   ]
  },
  {
   "cell_type": "code",
   "execution_count": 2,
   "metadata": {
    "collapsed": true
   },
   "outputs": [],
   "source": [
    "import matplotlib.pyplot as plt\n",
    "import csv\n",
    "import numpy as np\n",
    "import math"
   ]
  },
  {
   "cell_type": "markdown",
   "metadata": {},
   "source": [
    "Importing the data csv file. This is for the case where the no of data points are more than the no of features, hence while the inverse is calculated, it is a pseudo-inverse."
   ]
  },
  {
   "cell_type": "code",
   "execution_count": 3,
   "metadata": {
    "collapsed": true
   },
   "outputs": [],
   "source": [
    "reader = csv.reader(open(\"Data2.csv\", \"rt\"), delimiter=\",\")\n",
    "x = list(reader)\n",
    "result = np.array(x).astype(\"float\")\n",
    "np.random.shuffle(result)\n",
    "t_rows,t_cols=result.shape"
   ]
  },
  {
   "cell_type": "code",
   "execution_count": 4,
   "metadata": {},
   "outputs": [],
   "source": [
    "X=np.delete(result,t_cols-1,1)\n",
    "y=np.delete(result, np.s_[0:t_cols-1], axis=1)\n",
    "X=np.insert(X,0,1,axis=1)\n",
    "\n",
    "train_rows=int(0.7*t_rows)\n",
    "test_rows=t_rows-train_rows\n",
    "\n",
    "X_train=X[:train_rows]\n",
    "X_test=X[train_rows:t_rows]\n",
    "\n",
    "y_train=y[:train_rows]\n",
    "y_test=y[train_rows:t_rows]\n",
    "#print(X_train)\n",
    "#print(y_train)"
   ]
  },
  {
   "cell_type": "markdown",
   "metadata": {},
   "source": [
    "Normalization of features. Find the mean and std deviation only using the training data. Testing data should be kept as unseen and be normalized using the mean and std deviation of training data itself."
   ]
  },
  {
   "cell_type": "code",
   "execution_count": 4,
   "metadata": {
    "collapsed": true
   },
   "outputs": [],
   "source": [
    "for i in range(1,t_cols-1):\n",
    "    mean=np.mean(X_train[:,i])\n",
    "    std_dev=np.std(X_train[:,i])\n",
    "    for j in range(0,train_rows):\n",
    "        X_train[j,i]=(X_train[j,i]-mean)/std_dev\n",
    "    for j in range(0,test_rows):\n",
    "        X_test[j,i]=(X_test[j,i]-mean)/std_dev "
   ]
  },
  {
   "cell_type": "markdown",
   "metadata": {},
   "source": [
    "Gradient Descent with Least Square Loss function"
   ]
  },
  {
   "cell_type": "code",
   "execution_count": 5,
   "metadata": {
    "collapsed": true
   },
   "outputs": [],
   "source": [
    "w=np.zeros((t_cols,1), dtype=float)\n",
    "w_new=np.zeros((t_cols,1), dtype=float)\n",
    "w_difference=np.zeros((t_cols,1), dtype=float)\n",
    "f_xi=np.zeros((train_rows,1),dtype=float)\n",
    "difference_vector=np.zeros((train_rows,1),dtype=float)\n",
    "alpha=0.000001\n",
    "epsilon=0.0001\n",
    "w_norm=1\n",
    "sum1=0\n",
    "j_w=[]\n",
    "iterations=0"
   ]
  },
  {
   "cell_type": "code",
   "execution_count": 6,
   "metadata": {},
   "outputs": [],
   "source": [
    "while w_norm>epsilon:      \n",
    "    f_xi=np.dot(w.T,X_train.T)\n",
    "    f_xi=f_xi.reshape((140,1))\n",
    "    y_train=y_train.reshape((140,1))\n",
    "    difference_vector=np.subtract(y_train.T,f_xi.T)\n",
    "\n",
    "    for j in range(0,t_cols):\n",
    "        k=np.dot(difference_vector,X_train[:,j].reshape((140,1)))\n",
    "        w_new[j]=w[j] + alpha*k\n",
    "\n",
    "    w_norm=np.linalg.norm(np.subtract(w_new,w))\n",
    "    #print(iterations,w_norm)  \n",
    "    w=np.copy(w_new)\n",
    "    \n",
    "    Xw=np.dot(X_train,w_new)\n",
    "    value_difference=np.subtract(Xw,y_train)\n",
    "    jw_norm=np.linalg.norm(value_difference)\n",
    "    j_w.append(0.5*(pow(jw_norm,2)))\n",
    "    iterations=iterations+1"
   ]
  },
  {
   "cell_type": "code",
   "execution_count": 7,
   "metadata": {},
   "outputs": [
    {
     "name": "stdout",
     "output_type": "stream",
     "text": [
      "RMSE for the operation is: 2.048545481504731\n"
     ]
    },
    {
     "data": {
      "image/png": "[encoded data removed]",
      "text/plain": [
       "<matplotlib.figure.Figure at 0x199b4e3f470>"
      ]
     },
     "metadata": {},
     "output_type": "display_data"
    }
   ],
   "source": [
    "%matplotlib inline\n",
    "plt.xlabel('no of iterations')\n",
    "plt.ylabel('J(w)/Loss')\n",
    "plt.plot(j_w)\n",
    "#print(j_w)\n",
    "\n",
    "f_x=np.dot(X_test,w)\n",
    "for i in range(0,test_rows):\n",
    "    sum1=sum1+((f_x[i]-y_test[i])**2)\n",
    "#np.savetxt(\"w_for_data1.csv\", w, delimiter=\",\")   \n",
    "rmse=math.sqrt(sum1/test_rows)\n",
    "print(\"RMSE for the operation is: {}\".format(rmse))"
   ]
  },
  {
   "cell_type": "code",
   "execution_count": null,
   "metadata": {
    "collapsed": true
   },
   "outputs": [],
   "source": []
  }
 ],
 "metadata": {
  "kernelspec": {
   "display_name": "Python 3",
   "language": "python",
   "name": "python3"
  },
  "language_info": {
   "codemirror_mode": {
    "name": "ipython",
    "version": 3
   },
   "file_extension": ".py",
   "mimetype": "text/x-python",
   "name": "python",
   "nbconvert_exporter": "python",
   "pygments_lexer": "ipython3",
   "version": "3.6.1"
  }
 },
 "nbformat": 4,
 "nbformat_minor": 2
}
